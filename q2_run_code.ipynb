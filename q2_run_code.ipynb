{
 "cells": [
  {
   "cell_type": "code",
   "execution_count": null,
   "metadata": {},
   "outputs": [],
   "source": [
    "\n",
    "##########################################################\n",
    "#  Python script template for Question 2 (IAML Level 10)\n",
    "#  Note that\n",
    "#  - You should not change the name of this file, 'iaml01cw2_q2.py', which is the file name you should use when you submit your code for this question.\n",
    "#  - You should write code for the functions defined below. Do not change their names.\n",
    "#  - You can define function arguments (parameters) and returns (attributes) if necessary.\n",
    "#  - In case you define additional functions, do not define them here, but put them in a separate Python module file, \"iaml01cw2_my_helpers.py\", and import it in this script.\n",
    "#  - For those questions requiring you to show results in tables, your code does not need to present them in tables - just showing them with print() is fine.\n",
    "#  - You do not need to include this header in your submission.\n",
    "##########################################################\n",
    "\n",
    "#--- Code for loading modules and the data set and pre-processing --->\n",
    "# NB: You can edit the following and add code (e.g. code for loading sklearn) if necessary.\n",
    "from collections.abc import Sequence\n",
    "import platform\n",
    "import sklearn\n",
    "print(platform.python_version())\n",
    "print(sklearn.__version__) \n",
    "\n",
    "import numpy as np\n",
    "import scipy\n",
    "import matplotlib.pyplot as plt\n",
    "import seaborn as sns\n",
    "from sklearn.linear_model import LogisticRegression\n",
    "from sklearn.metrics import classification_report\n",
    "from sklearn.decomposition import PCA\n",
    "from sklearn.metrics import mean_squared_error\n",
    "from sklearn.metrics import confusion_matrix\n",
    "from sklearn.metrics import accuracy_score\n",
    "from sklearn.svm import SVC\n",
    "import os\n",
    "import sys\n",
    "sys.path.insert(0, os.path.abspath('../helpers'))\n",
    "from iaml01cw2_helpers import *"
   ]
  },
  {
   "cell_type": "code",
   "execution_count": 2,
   "metadata": {},
   "outputs": [],
   "source": [
    "#<----\n",
    "#data preprocessing\n",
    "fashionMNIST_loc = '../fashion-mnist-master/data/fashion'\n",
    "Xtrn, Ytrn, Xtst, Ytst = load_FashionMNIST(fashionMNIST_loc)\n",
    "#Step1\n",
    "Xtrn_orig = Xtrn.copy()\n",
    "Xtst_orig = Xtst.copy()\n",
    "#Step2\n",
    "Xtrn = Xtrn/(255.0)\n",
    "Xtst = Xtst/(255.0)\n",
    "#Step3\n",
    "Xmean = np.mean(Xtrn, axis = 0)\n",
    "#Step4\n",
    "Xtrn_nm = np.array(Xtrn).copy()\n",
    "Xtst_nm = np.array(Xtst).copy()\n",
    "Xtrn_nm = Xtrn_nm-Xmean\n",
    "Xtst_nm = Xtst_nm-Xmean"
   ]
  },
  {
   "cell_type": "code",
   "execution_count": 3,
   "metadata": {},
   "outputs": [],
   "source": [
    "# seperate dataset by classes:\n",
    "dataset = []\n",
    "for i in range(len(Ytrn)):\n",
    "    data = [Xtrn_nm[i],Ytrn[i]]\n",
    "    dataset.append(data)\n",
    "\n",
    "class_1 = []\n",
    "class_2 = []\n",
    "class_3 = []\n",
    "class_4 = []\n",
    "class_5 = []\n",
    "class_6 = []\n",
    "class_7 = []\n",
    "class_8 = []\n",
    "class_9 = []\n",
    "class_10 = []\n",
    "\n",
    "y1 = []\n",
    "y2 = []\n",
    "y3 = []\n",
    "y4 = []\n",
    "y5 = []\n",
    "y6 = []\n",
    "y7 = []\n",
    "y8 = []\n",
    "y9 = []\n",
    "y10 = []\n",
    "for j in range(len(dataset)):\n",
    "    d = dataset[j] \n",
    "    if (d[1] == 1):\n",
    "        class_1.append(d[0])\n",
    "        y1.append(d[1])\n",
    "    if (d[1] == 2):\n",
    "        class_2.append(d[0])\n",
    "        y2.append(d[1])\n",
    "    if (d[1] == 3):\n",
    "        class_3.append(d[0])\n",
    "        y3.append(d[1])\n",
    "    if (d[1] == 4):\n",
    "        class_4.append(d[0])\n",
    "        y4.append(d[1])\n",
    "    if (d[1] == 5):\n",
    "        class_5.append(d[0])\n",
    "        y5.append(d[1])\n",
    "    if (d[1] == 6):\n",
    "        class_6.append(d[0])\n",
    "        y6.append(d[1])\n",
    "    if (d[1] == 7):\n",
    "        class_7.append(d[0])\n",
    "        y7.append(d[1])\n",
    "    if (d[1] == 8):\n",
    "        class_8.append(d[0])\n",
    "        y8.append(d[1])\n",
    "    if (d[1] == 9):\n",
    "        class_9.append(d[0])\n",
    "        y9.append(d[1])\n",
    "    if (d[1] == 10):\n",
    "        class_10.append(d[0])\n",
    "        y10.append(d[1])\n",
    "        \n",
    "class1 = class_1\n",
    "class2 = class_2\n",
    "class3 = class_3\n",
    "class4 = class_4\n",
    "class5 = class_5\n",
    "class6 = class_6\n",
    "class7 = class_7\n",
    "class8 = class_8\n",
    "class9 = class_9\n",
    "class10 = class_10\n",
    "\n",
    "class_1 = np.array(class_1)\n",
    "class_2 = np.array(class_2)\n",
    "class_3 = np.array(class_3)\n",
    "class_4 = np.array(class_4)\n",
    "class_5 = np.array(class_5)\n",
    "class_6 = np.array(class_6)\n",
    "class_7 = np.array(class_7)\n",
    "class_8 = np.array(class_8)\n",
    "class_9 = np.array(class_9)\n",
    "class_10 = np.array(class_10)"
   ]
  },
  {
   "cell_type": "code",
   "execution_count": 5,
   "metadata": {},
   "outputs": [],
   "source": [
    "#<----\n",
    "\n",
    "# Q2.1\n",
    "#def iaml01cw2_q2_1():\n",
    "    \n",
    "#iaml01cw2_q2_1()   # comment this out when you run the function"
   ]
  },
  {
   "cell_type": "code",
   "execution_count": 6,
   "metadata": {},
   "outputs": [
    {
     "name": "stdout",
     "output_type": "stream",
     "text": [
      "classification report: \n",
      "             precision    recall  f1-score   support\n",
      "\n",
      "    class 0       0.79      0.82      0.80      1000\n",
      "    class 1       0.97      0.95      0.96      1000\n",
      "    class 2       0.72      0.73      0.73      1000\n",
      "    class 3       0.82      0.87      0.84      1000\n",
      "    class 4       0.72      0.76      0.74      1000\n",
      "    class 5       0.94      0.91      0.92      1000\n",
      "    class 6       0.64      0.54      0.59      1000\n",
      "    class 7       0.90      0.94      0.92      1000\n",
      "    class 8       0.93      0.94      0.94      1000\n",
      "    class 9       0.95      0.94      0.94      1000\n",
      "\n",
      "avg / total       0.84      0.84      0.84     10000\n",
      "\n",
      "accuracy: 0.8401\n",
      "confusion matrix is: \n",
      "[[819   3  15  50   7   4  89   1  12   0]\n",
      " [  5 953   4  27   5   0   3   1   2   0]\n",
      " [ 27   4 731  11 133   0  82   2   9   1]\n",
      " [ 31  15  14 866  33   0  37   0   4   0]\n",
      " [  0   3 115  38 760   2  72   0  10   0]\n",
      " [  2   0   0   1   0 911   0  56  10  20]\n",
      " [147   3 128  46 108   0 539   0  28   1]\n",
      " [  0   0   0   0   0  32   0 936   1  31]\n",
      " [  7   1   6  11   3   7  15   5 945   0]\n",
      " [  0   0   0   1   0  15   1  42   0 941]]\n"
     ]
    }
   ],
   "source": [
    "# Q2.1\n",
    "logreg = LogisticRegression()\n",
    "logreg_model = logreg.fit(Xtrn_nm,Ytrn)\n",
    "Ytrn_pred = logreg_model.predict(Xtst_nm)\n",
    "target_names = ['class 0', 'class 1', 'class 2', 'class 3', 'class 4', 'class 5', 'class 6', 'class 7', 'class 8',\n",
    "                'class 9']\n",
    "print(\"classification report: \")\n",
    "print(classification_report(Ytst, Ytrn_pred, target_names=target_names))\n",
    "accur = accuracy_score(Ytst, Ytrn_pred)\n",
    "print(\"accuracy: \" + str(accur))\n",
    "conf_matrix = confusion_matrix(Ytst, Ytrn_pred, labels=[0,1,2,3,4,5,6,7,8,9])\n",
    "print(\"confusion matrix is: \")\n",
    "print(conf_matrix)"
   ]
  },
  {
   "cell_type": "code",
   "execution_count": null,
   "metadata": {},
   "outputs": [],
   "source": [
    "# Q2.2\n",
    "#def iaml01cw2_q2_2():\n",
    "#\n",
    "# iaml01cw2_q2_2()   # comment this out when you run the function"
   ]
  },
  {
   "cell_type": "code",
   "execution_count": 8,
   "metadata": {},
   "outputs": [],
   "source": [
    "# Q2.2\n",
    "svm = SVC(kernel='rbf',C = 1.0, gamma='auto')\n",
    "svm_model = svm.fit(Xtrn_nm, Ytrn)\n",
    "svm_pred = svm_model.predict(Xtst_nm)"
   ]
  },
  {
   "cell_type": "code",
   "execution_count": 9,
   "metadata": {},
   "outputs": [
    {
     "name": "stdout",
     "output_type": "stream",
     "text": [
      "mean accuracy: 0.8461\n"
     ]
    }
   ],
   "source": [
    "mean_accur = svm_model.score(Xtst_nm, Ytst)\n",
    "print(\"mean accuracy: \" + str(mean_accur))"
   ]
  },
  {
   "cell_type": "code",
   "execution_count": 10,
   "metadata": {},
   "outputs": [
    {
     "name": "stdout",
     "output_type": "stream",
     "text": [
      "confusion matrix is: \n",
      "[[845   2   8  51   4   4  72   0  14   0]\n",
      " [  4 951   7  31   5   0   1   0   1   0]\n",
      " [ 15   2 748  11 137   0  79   0   8   0]\n",
      " [ 32   6  12 881  26   0  40   0   3   0]\n",
      " [  1   0  98  36 775   0  86   0   4   0]\n",
      " [  0   0   0   1   0 914   0  57   2  26]\n",
      " [185   1 122  39  95   0 533   0  25   0]\n",
      " [  0   0   0   0   0  34   0 925   0  41]\n",
      " [  3   1   8   5   2   4  13   4 959   1]\n",
      " [  0   0   0   0   0  22   0  47   1 930]]\n"
     ]
    }
   ],
   "source": [
    "conf_matrix_svm = confusion_matrix(Ytst, svm_pred)\n",
    "print(\"confusion matrix is: \")\n",
    "print(conf_matrix_svm)"
   ]
  },
  {
   "cell_type": "code",
   "execution_count": null,
   "metadata": {},
   "outputs": [],
   "source": [
    "# Q2.3\n",
    "#def iaml01cw2_q2_3():\n",
    "#\n",
    "# iaml01cw2_q2_3()   # comment this out when you run the function"
   ]
  },
  {
   "cell_type": "code",
   "execution_count": 11,
   "metadata": {},
   "outputs": [],
   "source": [
    "# Plotting decision regions\n",
    "pca = PCA(n_components=2)\n",
    "Xtrn_pca = pca.fit_transform(Xtrn_nm)"
   ]
  },
  {
   "cell_type": "code",
   "execution_count": 12,
   "metadata": {},
   "outputs": [],
   "source": [
    "V = pca.components_\n",
    "std = np.sqrt(pca.explained_variance_)\n",
    "sd_1 = std[0]\n",
    "sd_2 = std[1]"
   ]
  },
  {
   "cell_type": "code",
   "execution_count": 13,
   "metadata": {},
   "outputs": [],
   "source": [
    "x = np.arange(-5*sd_1, 5*sd_1, np.abs(10*sd_1)/100)\n",
    "y = np.arange(-5*sd_2, 5*sd_2, np.abs(10*sd_2)/100)\n",
    "\n",
    "xx, yy = np.meshgrid(x, y)"
   ]
  },
  {
   "cell_type": "code",
   "execution_count": 14,
   "metadata": {},
   "outputs": [],
   "source": [
    "pred = pca.inverse_transform(np.c_[xx.ravel(), yy.ravel()])"
   ]
  },
  {
   "cell_type": "code",
   "execution_count": 15,
   "metadata": {},
   "outputs": [],
   "source": [
    "z = logreg_model.predict(pred)"
   ]
  },
  {
   "cell_type": "code",
   "execution_count": 16,
   "metadata": {},
   "outputs": [
    {
     "name": "stderr",
     "output_type": "stream",
     "text": [
      "/Users/jw/miniconda3/envs/py3iaml/lib/python3.7/site-packages/ipykernel_launcher.py:2: UserWarning: The following kwargs were not used by contour: 'endpoint'\n",
      "  \n",
      "/Users/jw/miniconda3/envs/py3iaml/lib/python3.7/site-packages/ipykernel_launcher.py:3: MatplotlibDeprecationWarning: The 'cmap' parameter to Colorbar has no effect because it is overridden by the mappable; it is deprecated since 3.3 and will be removed two minor releases later.\n",
      "  This is separate from the ipykernel package so we can avoid doing imports until\n"
     ]
    },
    {
     "data": {
      "image/png": "[encoded data removed]",
      "text/plain": [
       "<Figure size 432x288 with 2 Axes>"
      ]
     },
     "metadata": {
      "needs_background": "light"
     },
     "output_type": "display_data"
    }
   ],
   "source": [
    "z = z.reshape(xx.shape)\n",
    "h = plt.contourf(xx, yy, z, [-1,0,1,2,3,4,5,6,7,8,9], cmap=plt.cm.coolwarm, endpoint=True)\n",
    "colorbar = plt.colorbar(cmap=plt.cm.coolwarm)\n",
    "colorbar.set_ticks([-1,0,1,2,3,4,5,6,7,8,9])\n",
    "plt.title('Decision regions for logistic regression')\n",
    "plt.xlabel('1st principal component')\n",
    "plt.ylabel('2nd principal component')\n",
    "plt.show()"
   ]
  },
  {
   "cell_type": "code",
   "execution_count": null,
   "metadata": {},
   "outputs": [],
   "source": [
    "# Q2.4\n",
    "#def iaml01cw2_q2_4():\n",
    "#\n",
    "# iaml01cw2_q2_4()   # comment this out when you run the function"
   ]
  },
  {
   "cell_type": "code",
   "execution_count": 17,
   "metadata": {},
   "outputs": [],
   "source": [
    "z = svm_model.predict(pred)"
   ]
  },
  {
   "cell_type": "code",
   "execution_count": 27,
   "metadata": {},
   "outputs": [
    {
     "name": "stderr",
     "output_type": "stream",
     "text": [
      "/Users/jw/miniconda3/envs/py3iaml/lib/python3.7/site-packages/ipykernel_launcher.py:2: UserWarning: The following kwargs were not used by contour: 'endpoint'\n",
      "  \n",
      "/Users/jw/miniconda3/envs/py3iaml/lib/python3.7/site-packages/ipykernel_launcher.py:3: MatplotlibDeprecationWarning: The 'cmap' parameter to Colorbar has no effect because it is overridden by the mappable; it is deprecated since 3.3 and will be removed two minor releases later.\n",
      "  This is separate from the ipykernel package so we can avoid doing imports until\n"
     ]
    },
    {
     "data": {
      "image/png": "[encoded data removed]",
      "text/plain": [
       "<Figure size 432x288 with 2 Axes>"
      ]
     },
     "metadata": {
      "needs_background": "light"
     },
     "output_type": "display_data"
    }
   ],
   "source": [
    "z = z.reshape(xx.shape)\n",
    "h = plt.contourf(xx, yy, z, [-1,0,1,2,3,4,5,6,7,8,9], cmap=plt.cm.coolwarm, endpoint=True)\n",
    "colorbar = plt.colorbar(cmap=plt.cm.coolwarm)\n",
    "colorbar.set_ticks([-1,0,1,2,3,4,5,6,7,8,9])\n",
    "plt.title('Decision regions for SVM')\n",
    "plt.xlabel('1st principal component')\n",
    "plt.ylabel('2nd principal component')\n",
    "plt.show()"
   ]
  },
  {
   "cell_type": "code",
   "execution_count": 19,
   "metadata": {},
   "outputs": [],
   "source": [
    "# Q2.5\n",
    "#def iaml01cw2_q2_5():\n",
    "#\n",
    "# iaml01cw2_q2_5()   # comment this out when you run the function"
   ]
  },
  {
   "cell_type": "code",
   "execution_count": 20,
   "metadata": {},
   "outputs": [
    {
     "name": "stderr",
     "output_type": "stream",
     "text": [
      "/Users/jw/miniconda3/envs/py3iaml/lib/python3.7/site-packages/sklearn/utils/validation.py:578: DataConversionWarning: A column-vector y was passed when a 1d array was expected. Please change the shape of y to (n_samples, ), for example using ravel().\n",
      "  y = column_or_1d(y, warn=True)\n",
      "/Users/jw/miniconda3/envs/py3iaml/lib/python3.7/site-packages/sklearn/utils/validation.py:578: DataConversionWarning: A column-vector y was passed when a 1d array was expected. Please change the shape of y to (n_samples, ), for example using ravel().\n",
      "  y = column_or_1d(y, warn=True)\n",
      "/Users/jw/miniconda3/envs/py3iaml/lib/python3.7/site-packages/sklearn/utils/validation.py:578: DataConversionWarning: A column-vector y was passed when a 1d array was expected. Please change the shape of y to (n_samples, ), for example using ravel().\n",
      "  y = column_or_1d(y, warn=True)\n",
      "/Users/jw/miniconda3/envs/py3iaml/lib/python3.7/site-packages/sklearn/utils/validation.py:578: DataConversionWarning: A column-vector y was passed when a 1d array was expected. Please change the shape of y to (n_samples, ), for example using ravel().\n",
      "  y = column_or_1d(y, warn=True)\n",
      "/Users/jw/miniconda3/envs/py3iaml/lib/python3.7/site-packages/sklearn/utils/validation.py:578: DataConversionWarning: A column-vector y was passed when a 1d array was expected. Please change the shape of y to (n_samples, ), for example using ravel().\n",
      "  y = column_or_1d(y, warn=True)\n",
      "/Users/jw/miniconda3/envs/py3iaml/lib/python3.7/site-packages/sklearn/utils/validation.py:578: DataConversionWarning: A column-vector y was passed when a 1d array was expected. Please change the shape of y to (n_samples, ), for example using ravel().\n",
      "  y = column_or_1d(y, warn=True)\n",
      "/Users/jw/miniconda3/envs/py3iaml/lib/python3.7/site-packages/sklearn/utils/validation.py:578: DataConversionWarning: A column-vector y was passed when a 1d array was expected. Please change the shape of y to (n_samples, ), for example using ravel().\n",
      "  y = column_or_1d(y, warn=True)\n",
      "/Users/jw/miniconda3/envs/py3iaml/lib/python3.7/site-packages/sklearn/utils/validation.py:578: DataConversionWarning: A column-vector y was passed when a 1d array was expected. Please change the shape of y to (n_samples, ), for example using ravel().\n",
      "  y = column_or_1d(y, warn=True)\n",
      "/Users/jw/miniconda3/envs/py3iaml/lib/python3.7/site-packages/sklearn/utils/validation.py:578: DataConversionWarning: A column-vector y was passed when a 1d array was expected. Please change the shape of y to (n_samples, ), for example using ravel().\n",
      "  y = column_or_1d(y, warn=True)\n",
      "/Users/jw/miniconda3/envs/py3iaml/lib/python3.7/site-packages/sklearn/utils/validation.py:578: DataConversionWarning: A column-vector y was passed when a 1d array was expected. Please change the shape of y to (n_samples, ), for example using ravel().\n",
      "  y = column_or_1d(y, warn=True)\n",
      "/Users/jw/miniconda3/envs/py3iaml/lib/python3.7/site-packages/sklearn/utils/validation.py:578: DataConversionWarning: A column-vector y was passed when a 1d array was expected. Please change the shape of y to (n_samples, ), for example using ravel().\n",
      "  y = column_or_1d(y, warn=True)\n",
      "/Users/jw/miniconda3/envs/py3iaml/lib/python3.7/site-packages/sklearn/utils/validation.py:578: DataConversionWarning: A column-vector y was passed when a 1d array was expected. Please change the shape of y to (n_samples, ), for example using ravel().\n",
      "  y = column_or_1d(y, warn=True)\n",
      "/Users/jw/miniconda3/envs/py3iaml/lib/python3.7/site-packages/sklearn/utils/validation.py:578: DataConversionWarning: A column-vector y was passed when a 1d array was expected. Please change the shape of y to (n_samples, ), for example using ravel().\n",
      "  y = column_or_1d(y, warn=True)\n",
      "/Users/jw/miniconda3/envs/py3iaml/lib/python3.7/site-packages/sklearn/utils/validation.py:578: DataConversionWarning: A column-vector y was passed when a 1d array was expected. Please change the shape of y to (n_samples, ), for example using ravel().\n",
      "  y = column_or_1d(y, warn=True)\n",
      "/Users/jw/miniconda3/envs/py3iaml/lib/python3.7/site-packages/sklearn/utils/validation.py:578: DataConversionWarning: A column-vector y was passed when a 1d array was expected. Please change the shape of y to (n_samples, ), for example using ravel().\n",
      "  y = column_or_1d(y, warn=True)\n",
      "/Users/jw/miniconda3/envs/py3iaml/lib/python3.7/site-packages/sklearn/utils/validation.py:578: DataConversionWarning: A column-vector y was passed when a 1d array was expected. Please change the shape of y to (n_samples, ), for example using ravel().\n",
      "  y = column_or_1d(y, warn=True)\n",
      "/Users/jw/miniconda3/envs/py3iaml/lib/python3.7/site-packages/sklearn/utils/validation.py:578: DataConversionWarning: A column-vector y was passed when a 1d array was expected. Please change the shape of y to (n_samples, ), for example using ravel().\n",
      "  y = column_or_1d(y, warn=True)\n",
      "/Users/jw/miniconda3/envs/py3iaml/lib/python3.7/site-packages/sklearn/utils/validation.py:578: DataConversionWarning: A column-vector y was passed when a 1d array was expected. Please change the shape of y to (n_samples, ), for example using ravel().\n",
      "  y = column_or_1d(y, warn=True)\n",
      "/Users/jw/miniconda3/envs/py3iaml/lib/python3.7/site-packages/sklearn/utils/validation.py:578: DataConversionWarning: A column-vector y was passed when a 1d array was expected. Please change the shape of y to (n_samples, ), for example using ravel().\n",
      "  y = column_or_1d(y, warn=True)\n",
      "/Users/jw/miniconda3/envs/py3iaml/lib/python3.7/site-packages/sklearn/utils/validation.py:578: DataConversionWarning: A column-vector y was passed when a 1d array was expected. Please change the shape of y to (n_samples, ), for example using ravel().\n",
      "  y = column_or_1d(y, warn=True)\n",
      "/Users/jw/miniconda3/envs/py3iaml/lib/python3.7/site-packages/sklearn/utils/validation.py:578: DataConversionWarning: A column-vector y was passed when a 1d array was expected. Please change the shape of y to (n_samples, ), for example using ravel().\n",
      "  y = column_or_1d(y, warn=True)\n",
      "/Users/jw/miniconda3/envs/py3iaml/lib/python3.7/site-packages/sklearn/utils/validation.py:578: DataConversionWarning: A column-vector y was passed when a 1d array was expected. Please change the shape of y to (n_samples, ), for example using ravel().\n",
      "  y = column_or_1d(y, warn=True)\n",
      "/Users/jw/miniconda3/envs/py3iaml/lib/python3.7/site-packages/sklearn/utils/validation.py:578: DataConversionWarning: A column-vector y was passed when a 1d array was expected. Please change the shape of y to (n_samples, ), for example using ravel().\n",
      "  y = column_or_1d(y, warn=True)\n",
      "/Users/jw/miniconda3/envs/py3iaml/lib/python3.7/site-packages/sklearn/utils/validation.py:578: DataConversionWarning: A column-vector y was passed when a 1d array was expected. Please change the shape of y to (n_samples, ), for example using ravel().\n",
      "  y = column_or_1d(y, warn=True)\n",
      "/Users/jw/miniconda3/envs/py3iaml/lib/python3.7/site-packages/sklearn/utils/validation.py:578: DataConversionWarning: A column-vector y was passed when a 1d array was expected. Please change the shape of y to (n_samples, ), for example using ravel().\n",
      "  y = column_or_1d(y, warn=True)\n",
      "/Users/jw/miniconda3/envs/py3iaml/lib/python3.7/site-packages/sklearn/utils/validation.py:578: DataConversionWarning: A column-vector y was passed when a 1d array was expected. Please change the shape of y to (n_samples, ), for example using ravel().\n",
      "  y = column_or_1d(y, warn=True)\n",
      "/Users/jw/miniconda3/envs/py3iaml/lib/python3.7/site-packages/sklearn/utils/validation.py:578: DataConversionWarning: A column-vector y was passed when a 1d array was expected. Please change the shape of y to (n_samples, ), for example using ravel().\n",
      "  y = column_or_1d(y, warn=True)\n",
      "/Users/jw/miniconda3/envs/py3iaml/lib/python3.7/site-packages/sklearn/utils/validation.py:578: DataConversionWarning: A column-vector y was passed when a 1d array was expected. Please change the shape of y to (n_samples, ), for example using ravel().\n",
      "  y = column_or_1d(y, warn=True)\n",
      "/Users/jw/miniconda3/envs/py3iaml/lib/python3.7/site-packages/sklearn/utils/validation.py:578: DataConversionWarning: A column-vector y was passed when a 1d array was expected. Please change the shape of y to (n_samples, ), for example using ravel().\n",
      "  y = column_or_1d(y, warn=True)\n"
     ]
    },
    {
     "name": "stderr",
     "output_type": "stream",
     "text": [
      "/Users/jw/miniconda3/envs/py3iaml/lib/python3.7/site-packages/sklearn/utils/validation.py:578: DataConversionWarning: A column-vector y was passed when a 1d array was expected. Please change the shape of y to (n_samples, ), for example using ravel().\n",
      "  y = column_or_1d(y, warn=True)\n"
     ]
    }
   ],
   "source": [
    "from sklearn.model_selection import cross_val_score\n",
    "c1 = Xtrn_nm[Ytrn == 0][:1000,:]\n",
    "c2 = Xtrn_nm[Ytrn == 1][:1000,:]\n",
    "c3 = Xtrn_nm[Ytrn == 2][:1000,:]\n",
    "c4 = Xtrn_nm[Ytrn == 3][:1000,:]\n",
    "c5 = Xtrn_nm[Ytrn == 4][:1000,:]\n",
    "c6 = Xtrn_nm[Ytrn == 5][:1000,:]\n",
    "c7 = Xtrn_nm[Ytrn == 6][:1000,:]\n",
    "c8 = Xtrn_nm[Ytrn == 7][:1000,:]\n",
    "c9 = Xtrn_nm[Ytrn == 8][:1000,:]\n",
    "c10 = Xtrn_nm[Ytrn == 9][:1000,:]\n",
    "Xsmall = np.array([c1,c2,c3,c4,c5,c6,c7,c8,c9,c10]).reshape(-1,784)\n",
    "\n",
    "y1 = Ytrn[Ytrn == 0][:1000]\n",
    "y2 = Ytrn[Ytrn == 1][:1000]\n",
    "y3 = Ytrn[Ytrn == 2][:1000]\n",
    "y4 = Ytrn[Ytrn == 3][:1000]\n",
    "y5 = Ytrn[Ytrn == 4][:1000]\n",
    "y6 = Ytrn[Ytrn == 5][:1000]\n",
    "y7 = Ytrn[Ytrn == 6][:1000]\n",
    "y8 = Ytrn[Ytrn == 7][:1000]\n",
    "y9 = Ytrn[Ytrn == 8][:1000]\n",
    "y10 = Ytrn[Ytrn == 9][:1000]\n",
    "Ysmall = np.array([y1,y2,y3,y4,y5,y6,y7,y8,y9,y10]).reshape(-1,1)\n",
    "\n",
    "C = np.logspace(-2, 3, num = 10, endpoint=True, base=10)\n",
    "accur_lis = []\n",
    "for c in (C):\n",
    "    svm_3f = SVC(kernel = 'rbf', C=c, gamma='auto')\n",
    "    accur = cross_val_score(svm_3f, Xsmall, Ysmall, scoring='accuracy', cv = 3)\n",
    "    accur_lis.append(np.mean(accur))"
   ]
  },
  {
   "cell_type": "code",
   "execution_count": 29,
   "metadata": {},
   "outputs": [
    {
     "data": {
      "image/png": "[encoded data removed]",
      "text/plain": [
       "<Figure size 432x288 with 1 Axes>"
      ]
     },
     "metadata": {
      "needs_background": "light"
     },
     "output_type": "display_data"
    }
   ],
   "source": [
    "plt.scatter(C,accur_lis)\n",
    "plt.plot(C,accur_lis)\n",
    "plt.title('3-fold cross-validation for SVM')\n",
    "plt.xlabel('regularisation parameter C')\n",
    "plt.ylabel('Mean cross-validated classification accuracy')\n",
    "plt.xscale('log')\n",
    "plt.show()"
   ]
  },
  {
   "cell_type": "code",
   "execution_count": 32,
   "metadata": {},
   "outputs": [
    {
     "name": "stdout",
     "output_type": "stream",
     "text": [
      "The highest obtained mean accuracy score: 0.8565023106939273\n",
      "C with maximum mean cross-validated classification accuracy is 21.544346900318846\n"
     ]
    }
   ],
   "source": [
    "max_accur = max(accur_lis)\n",
    "max_C = accur_lis.index(max_accur)\n",
    "print(\"The highest obtained mean accuracy score: \" + str(max_accur))\n",
    "print(\"C with maximum mean cross-validated classification accuracy is \" + str(C[max_C]))"
   ]
  },
  {
   "cell_type": "code",
   "execution_count": 22,
   "metadata": {},
   "outputs": [],
   "source": [
    "# Q2.6 \n",
    "#def iaml01cw2_q2_6():\n",
    "#\n",
    "# iaml01cw2_q2_6()   # comment this out when you run the function"
   ]
  },
  {
   "cell_type": "code",
   "execution_count": 23,
   "metadata": {},
   "outputs": [],
   "source": [
    "max_accur = max(accur_lis)\n",
    "max_C = accur_lis.index(max_accur)\n",
    "svm = SVC(kernel = 'rbf', C=max_C, gamma='auto').fit(Xtrn_nm,Ytrn)\n",
    "Ytrn_pred = svm.predict(Xtrn_nm)\n",
    "Ytst_pred = svm.predict(Xtst_nm)"
   ]
  },
  {
   "cell_type": "code",
   "execution_count": 24,
   "metadata": {},
   "outputs": [],
   "source": [
    "train_accur = accuracy_score(Ytrn, Ytrn_pred)\n",
    "test_accur = accuracy_score(Ytst, Ytst_pred)"
   ]
  },
  {
   "cell_type": "code",
   "execution_count": 25,
   "metadata": {},
   "outputs": [],
   "source": [
    "#train_accur = svm.score(Xtrn_nm, Ytrn)\n",
    "#test_accur = svm.score(Xtst_nm, Ytst)"
   ]
  },
  {
   "cell_type": "code",
   "execution_count": 26,
   "metadata": {},
   "outputs": [
    {
     "name": "stdout",
     "output_type": "stream",
     "text": [
      "train accuracy: 0.8884666666666666\n",
      "test accuracy: 0.8664\n"
     ]
    }
   ],
   "source": [
    "print(\"train accuracy: \" + str(train_accur))\n",
    "print(\"test accuracy: \" + str(test_accur))"
   ]
  },
  {
   "cell_type": "code",
   "execution_count": null,
   "metadata": {},
   "outputs": [],
   "source": []
  }
 ],
 "metadata": {
  "kernelspec": {
   "display_name": "Python [conda env:py3iaml] *",
   "language": "python",
   "name": "conda-env-py3iaml-py"
  },
  "language_info": {
   "codemirror_mode": {
    "name": "ipython",
    "version": 3
   },
   "file_extension": ".py",
   "mimetype": "text/x-python",
   "name": "python",
   "nbconvert_exporter": "python",
   "pygments_lexer": "ipython3",
   "version": "3.7.9"
  }
 },
 "nbformat": 4,
 "nbformat_minor": 4
}
